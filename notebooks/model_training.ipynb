{
 "cells": [
  {
   "cell_type": "code",
   "execution_count": 80,
   "metadata": {},
   "outputs": [],
   "source": [
    "import pandas as pd\n",
    "import numpy as np\n",
    "from matplotlib import pyplot as plt\n",
    "import seaborn as sns\n",
    "import plotly.express as px\n",
    "\n",
    "import torch\n",
    "import sklearn\n",
    "\n",
    "import sys\n",
    "sys.path.append('../')\n",
    "\n",
    "%matplotlib notebook"
   ]
  },
  {
   "cell_type": "code",
   "execution_count": 81,
   "metadata": {},
   "outputs": [],
   "source": [
    "obs_df = pd.read_csv(\"../data/synthetic_cloud_ops.csv\")\n",
    "\n",
    "obs_df[['service', 'region']] = obs_df['dimensions'].apply(lambda x: pd.Series([eval(x)['service'], eval(x)['region']]))\n",
    "\n",
    "obs_df = obs_df.drop(columns=\"dimensions\")"
   ]
  },
  {
   "cell_type": "code",
   "execution_count": 82,
   "metadata": {},
   "outputs": [
    {
     "data": {
      "text/html": [
       "<div>\n",
       "<style scoped>\n",
       "    .dataframe tbody tr th:only-of-type {\n",
       "        vertical-align: middle;\n",
       "    }\n",
       "\n",
       "    .dataframe tbody tr th {\n",
       "        vertical-align: top;\n",
       "    }\n",
       "\n",
       "    .dataframe thead th {\n",
       "        text-align: right;\n",
       "    }\n",
       "</style>\n",
       "<table border=\"1\" class=\"dataframe\">\n",
       "  <thead>\n",
       "    <tr style=\"text-align: right;\">\n",
       "      <th></th>\n",
       "      <th>timestamp</th>\n",
       "      <th>metric_name</th>\n",
       "      <th>value</th>\n",
       "      <th>service</th>\n",
       "      <th>region</th>\n",
       "    </tr>\n",
       "  </thead>\n",
       "  <tbody>\n",
       "    <tr>\n",
       "      <th>0</th>\n",
       "      <td>2022-01-01 00:00:00</td>\n",
       "      <td>memory_usage</td>\n",
       "      <td>16.681384</td>\n",
       "      <td>webserver</td>\n",
       "      <td>us-west-1</td>\n",
       "    </tr>\n",
       "    <tr>\n",
       "      <th>1</th>\n",
       "      <td>2022-01-01 00:00:01</td>\n",
       "      <td>network_throughput</td>\n",
       "      <td>26.702124</td>\n",
       "      <td>worker</td>\n",
       "      <td>us-west-2</td>\n",
       "    </tr>\n",
       "    <tr>\n",
       "      <th>2</th>\n",
       "      <td>2022-01-01 00:00:02</td>\n",
       "      <td>error_rate</td>\n",
       "      <td>43.616466</td>\n",
       "      <td>worker</td>\n",
       "      <td>us-west-2</td>\n",
       "    </tr>\n",
       "    <tr>\n",
       "      <th>3</th>\n",
       "      <td>2022-01-01 00:00:03</td>\n",
       "      <td>network_throughput</td>\n",
       "      <td>16.961173</td>\n",
       "      <td>database</td>\n",
       "      <td>us-west-1</td>\n",
       "    </tr>\n",
       "    <tr>\n",
       "      <th>4</th>\n",
       "      <td>2022-01-01 00:00:04</td>\n",
       "      <td>cpu_usage</td>\n",
       "      <td>16.365177</td>\n",
       "      <td>webserver</td>\n",
       "      <td>us-west-1</td>\n",
       "    </tr>\n",
       "  </tbody>\n",
       "</table>\n",
       "</div>"
      ],
      "text/plain": [
       "             timestamp         metric_name      value    service     region\n",
       "0  2022-01-01 00:00:00        memory_usage  16.681384  webserver  us-west-1\n",
       "1  2022-01-01 00:00:01  network_throughput  26.702124     worker  us-west-2\n",
       "2  2022-01-01 00:00:02          error_rate  43.616466     worker  us-west-2\n",
       "3  2022-01-01 00:00:03  network_throughput  16.961173   database  us-west-1\n",
       "4  2022-01-01 00:00:04           cpu_usage  16.365177  webserver  us-west-1"
      ]
     },
     "execution_count": 82,
     "metadata": {},
     "output_type": "execute_result"
    }
   ],
   "source": [
    "obs_df.head()"
   ]
  },
  {
   "attachments": {},
   "cell_type": "markdown",
   "metadata": {},
   "source": [
    "# Outlier Detection\n"
   ]
  },
  {
   "attachments": {},
   "cell_type": "markdown",
   "metadata": {},
   "source": [
    "#### Heuristic Z-score Normalization"
   ]
  },
  {
   "cell_type": "code",
   "execution_count": 83,
   "metadata": {},
   "outputs": [
    {
     "name": "stdout",
     "output_type": "stream",
     "text": [
      "Number of outliers: 8\n"
     ]
    }
   ],
   "source": [
    "# Calculate the average of the target variable\n",
    "avg = obs_df['value'].mean()\n",
    "\n",
    "# Calculate the standard deviation of the target variable\n",
    "std = obs_df['value'].std()\n",
    "\n",
    "# Calculate the upper threshold for outliers\n",
    "threshold = avg + 1.5 * std\n",
    "\n",
    "# Create a new column that flags outliers as True or False\n",
    "obs_df['is_outlier'] = obs_df['value'] > threshold\n",
    "\n",
    "# Count the number of outliers found\n",
    "num_outliers = obs_df['is_outlier'].sum()\n",
    "\n",
    "# Print the number of outliers found\n",
    "print(\"Number of outliers:\", num_outliers)"
   ]
  },
  {
   "cell_type": "code",
   "execution_count": 84,
   "metadata": {},
   "outputs": [
    {
     "data": {
      "application/vnd.plotly.v1+json": {
       "config": {
        "plotlyServerURL": "https://plot.ly"
       },
       "data": [
        {
         "hovertemplate": "is_outlier=False<br>timestamp=%{x}<br>value=%{y}<extra></extra>",
         "legendgroup": "False",
         "marker": {
          "color": "#636efa",
          "symbol": "circle"
         },
         "mode": "markers",
         "name": "False",
         "orientation": "v",
         "showlegend": true,
         "type": "scatter",
         "x": [
          "2022-01-01 00:00:00",
          "2022-01-01 00:00:01",
          "2022-01-01 00:00:02",
          "2022-01-01 00:00:03",
          "2022-01-01 00:00:04",
          "2022-01-01 00:00:05",
          "2022-01-01 00:00:06",
          "2022-01-01 00:00:07",
          "2022-01-01 00:00:08",
          "2022-01-01 00:00:09",
          "2022-01-01 00:00:10",
          "2022-01-01 00:00:11",
          "2022-01-01 00:00:12",
          "2022-01-01 00:00:14",
          "2022-01-01 00:00:15",
          "2022-01-01 00:00:16",
          "2022-01-01 00:00:17",
          "2022-01-01 00:00:18",
          "2022-01-01 00:00:19",
          "2022-01-01 00:00:21",
          "2022-01-01 00:00:23",
          "2022-01-01 00:00:24",
          "2022-01-01 00:00:25",
          "2022-01-01 00:00:26",
          "2022-01-01 00:00:27",
          "2022-01-01 00:00:28",
          "2022-01-01 00:00:29",
          "2022-01-01 00:00:30",
          "2022-01-01 00:00:31",
          "2022-01-01 00:00:32",
          "2022-01-01 00:00:33",
          "2022-01-01 00:00:35",
          "2022-01-01 00:00:36",
          "2022-01-01 00:00:37",
          "2022-01-01 00:00:38",
          "2022-01-01 00:00:39",
          "2022-01-01 00:00:40",
          "2022-01-01 00:00:41",
          "2022-01-01 00:00:42",
          "2022-01-01 00:00:43",
          "2022-01-01 00:00:44",
          "2022-01-01 00:00:45",
          "2022-01-01 00:00:46",
          "2022-01-01 00:00:47",
          "2022-01-01 00:00:48",
          "2022-01-01 00:00:49",
          "2022-01-01 00:00:50",
          "2022-01-01 00:00:52",
          "2022-01-01 00:00:53",
          "2022-01-01 00:00:54",
          "2022-01-01 00:00:55",
          "2022-01-01 00:00:56",
          "2022-01-01 00:00:57",
          "2022-01-01 00:00:59",
          "2022-01-01 00:01:00",
          "2022-01-01 00:01:01",
          "2022-01-01 00:01:02",
          "2022-01-01 00:01:03",
          "2022-01-01 00:01:04",
          "2022-01-01 00:01:05",
          "2022-01-01 00:01:06",
          "2022-01-01 00:01:07",
          "2022-01-01 00:01:08",
          "2022-01-01 00:01:10",
          "2022-01-01 00:01:11",
          "2022-01-01 00:01:13",
          "2022-01-01 00:01:14",
          "2022-01-01 00:01:15",
          "2022-01-01 00:01:16",
          "2022-01-01 00:01:17",
          "2022-01-01 00:01:18",
          "2022-01-01 00:01:19",
          "2022-01-01 00:01:20",
          "2022-01-01 00:01:21",
          "2022-01-01 00:01:22",
          "2022-01-01 00:01:23",
          "2022-01-01 00:01:24",
          "2022-01-01 00:01:25",
          "2022-01-01 00:01:26",
          "2022-01-01 00:01:27",
          "2022-01-01 00:01:28",
          "2022-01-01 00:01:29",
          "2022-01-01 00:01:30",
          "2022-01-01 00:01:31",
          "2022-01-01 00:01:32",
          "2022-01-01 00:01:33",
          "2022-01-01 00:01:34",
          "2022-01-01 00:01:35",
          "2022-01-01 00:01:36",
          "2022-01-01 00:01:37",
          "2022-01-01 00:01:38",
          "2022-01-01 00:01:39"
         ],
         "xaxis": "x",
         "y": [
          16.681384200774634,
          26.702124278170626,
          43.616465758105136,
          16.96117263180629,
          16.365176516261414,
          37.7693703930941,
          49.84316140631191,
          46.42134676142567,
          33.207460836903785,
          12.569709606182595,
          41.220507770108064,
          25.50755515991692,
          39.14516370169039,
          47.97800290413701,
          21.68993092082664,
          45.05169539118231,
          14.397258004667377,
          21.567462303248757,
          24.921202557854723,
          42.23947617912738,
          27.558032844395367,
          16.65443909436607,
          44.47629813925948,
          17.748106141328705,
          45.16463242687902,
          19.272753758882416,
          19.492088458202996,
          27.368581305428936,
          38.3876101790526,
          31.62213238648776,
          46.217335603772426,
          27.2948449265608,
          28.644994045429648,
          20.495509974368943,
          20.510280282218773,
          33.39346633531592,
          11.398866914819546,
          24.76866253109796,
          49.80365218858523,
          38.7719881168626,
          24.60045882251166,
          43.51924575991484,
          40.13028397471224,
          21.733521943696527,
          14.012999677081057,
          40.554379587936864,
          29.33389192744,
          43.8187979732893,
          47.08425612951212,
          41.09425541653656,
          28.77089841726676,
          38.56686049551725,
          47.266610657319575,
          24.600347414340497,
          16.126818009393865,
          46.49459665141392,
          43.04818070883708,
          32.64371584634702,
          27.617013975889535,
          43.0441587692615,
          41.05345112944151,
          27.76433896396087,
          30.474714016891067,
          46.97983064768236,
          42.46663716613254,
          32.051916172946946,
          29.820474749418103,
          48.68288916601477,
          49.27928669362672,
          18.601834255382187,
          31.681520974369576,
          15.005632834049717,
          23.11528067560486,
          17.584170024120343,
          47.11302358069992,
          10.895603355736686,
          32.665367219303505,
          10.230996440706912,
          37.65702225974496,
          20.65098559117613,
          32.3781076246968,
          14.656135347756525,
          17.734343371192068,
          28.038232009336536,
          17.756384338830102,
          20.77852344800164,
          46.47209960532814,
          34.883442606465984,
          17.81470784209059,
          48.7889192021253,
          45.93373281452725,
          28.4288441802643
         ],
         "yaxis": "y"
        },
        {
         "hovertemplate": "is_outlier=True<br>timestamp=%{x}<br>value=%{y}<extra></extra>",
         "legendgroup": "True",
         "marker": {
          "color": "#EF553B",
          "symbol": "circle"
         },
         "mode": "markers",
         "name": "True",
         "orientation": "v",
         "showlegend": true,
         "type": "scatter",
         "x": [
          "2022-01-01 00:00:13",
          "2022-01-01 00:00:20",
          "2022-01-01 00:00:22",
          "2022-01-01 00:00:34",
          "2022-01-01 00:00:51",
          "2022-01-01 00:00:58",
          "2022-01-01 00:01:09",
          "2022-01-01 00:01:12"
         ],
         "xaxis": "x",
         "y": [
          78.27298105167554,
          84.32383676595158,
          71.17919503213612,
          65.67002203744259,
          68.94331493236966,
          69.8400731861156,
          73.3940661404701,
          74.09385468773235
         ],
         "yaxis": "y"
        }
       ],
       "layout": {
        "legend": {
         "title": {
          "text": "is_outlier"
         },
         "tracegroupgap": 0
        },
        "template": {
         "data": {
          "bar": [
           {
            "error_x": {
             "color": "#2a3f5f"
            },
            "error_y": {
             "color": "#2a3f5f"
            },
            "marker": {
             "line": {
              "color": "#E5ECF6",
              "width": 0.5
             },
             "pattern": {
              "fillmode": "overlay",
              "size": 10,
              "solidity": 0.2
             }
            },
            "type": "bar"
           }
          ],
          "barpolar": [
           {
            "marker": {
             "line": {
              "color": "#E5ECF6",
              "width": 0.5
             },
             "pattern": {
              "fillmode": "overlay",
              "size": 10,
              "solidity": 0.2
             }
            },
            "type": "barpolar"
           }
          ],
          "carpet": [
           {
            "aaxis": {
             "endlinecolor": "#2a3f5f",
             "gridcolor": "white",
             "linecolor": "white",
             "minorgridcolor": "white",
             "startlinecolor": "#2a3f5f"
            },
            "baxis": {
             "endlinecolor": "#2a3f5f",
             "gridcolor": "white",
             "linecolor": "white",
             "minorgridcolor": "white",
             "startlinecolor": "#2a3f5f"
            },
            "type": "carpet"
           }
          ],
          "choropleth": [
           {
            "colorbar": {
             "outlinewidth": 0,
             "ticks": ""
            },
            "type": "choropleth"
           }
          ],
          "contour": [
           {
            "colorbar": {
             "outlinewidth": 0,
             "ticks": ""
            },
            "colorscale": [
             [
              0,
              "#0d0887"
             ],
             [
              0.1111111111111111,
              "#46039f"
             ],
             [
              0.2222222222222222,
              "#7201a8"
             ],
             [
              0.3333333333333333,
              "#9c179e"
             ],
             [
              0.4444444444444444,
              "#bd3786"
             ],
             [
              0.5555555555555556,
              "#d8576b"
             ],
             [
              0.6666666666666666,
              "#ed7953"
             ],
             [
              0.7777777777777778,
              "#fb9f3a"
             ],
             [
              0.8888888888888888,
              "#fdca26"
             ],
             [
              1,
              "#f0f921"
             ]
            ],
            "type": "contour"
           }
          ],
          "contourcarpet": [
           {
            "colorbar": {
             "outlinewidth": 0,
             "ticks": ""
            },
            "type": "contourcarpet"
           }
          ],
          "heatmap": [
           {
            "colorbar": {
             "outlinewidth": 0,
             "ticks": ""
            },
            "colorscale": [
             [
              0,
              "#0d0887"
             ],
             [
              0.1111111111111111,
              "#46039f"
             ],
             [
              0.2222222222222222,
              "#7201a8"
             ],
             [
              0.3333333333333333,
              "#9c179e"
             ],
             [
              0.4444444444444444,
              "#bd3786"
             ],
             [
              0.5555555555555556,
              "#d8576b"
             ],
             [
              0.6666666666666666,
              "#ed7953"
             ],
             [
              0.7777777777777778,
              "#fb9f3a"
             ],
             [
              0.8888888888888888,
              "#fdca26"
             ],
             [
              1,
              "#f0f921"
             ]
            ],
            "type": "heatmap"
           }
          ],
          "heatmapgl": [
           {
            "colorbar": {
             "outlinewidth": 0,
             "ticks": ""
            },
            "colorscale": [
             [
              0,
              "#0d0887"
             ],
             [
              0.1111111111111111,
              "#46039f"
             ],
             [
              0.2222222222222222,
              "#7201a8"
             ],
             [
              0.3333333333333333,
              "#9c179e"
             ],
             [
              0.4444444444444444,
              "#bd3786"
             ],
             [
              0.5555555555555556,
              "#d8576b"
             ],
             [
              0.6666666666666666,
              "#ed7953"
             ],
             [
              0.7777777777777778,
              "#fb9f3a"
             ],
             [
              0.8888888888888888,
              "#fdca26"
             ],
             [
              1,
              "#f0f921"
             ]
            ],
            "type": "heatmapgl"
           }
          ],
          "histogram": [
           {
            "marker": {
             "pattern": {
              "fillmode": "overlay",
              "size": 10,
              "solidity": 0.2
             }
            },
            "type": "histogram"
           }
          ],
          "histogram2d": [
           {
            "colorbar": {
             "outlinewidth": 0,
             "ticks": ""
            },
            "colorscale": [
             [
              0,
              "#0d0887"
             ],
             [
              0.1111111111111111,
              "#46039f"
             ],
             [
              0.2222222222222222,
              "#7201a8"
             ],
             [
              0.3333333333333333,
              "#9c179e"
             ],
             [
              0.4444444444444444,
              "#bd3786"
             ],
             [
              0.5555555555555556,
              "#d8576b"
             ],
             [
              0.6666666666666666,
              "#ed7953"
             ],
             [
              0.7777777777777778,
              "#fb9f3a"
             ],
             [
              0.8888888888888888,
              "#fdca26"
             ],
             [
              1,
              "#f0f921"
             ]
            ],
            "type": "histogram2d"
           }
          ],
          "histogram2dcontour": [
           {
            "colorbar": {
             "outlinewidth": 0,
             "ticks": ""
            },
            "colorscale": [
             [
              0,
              "#0d0887"
             ],
             [
              0.1111111111111111,
              "#46039f"
             ],
             [
              0.2222222222222222,
              "#7201a8"
             ],
             [
              0.3333333333333333,
              "#9c179e"
             ],
             [
              0.4444444444444444,
              "#bd3786"
             ],
             [
              0.5555555555555556,
              "#d8576b"
             ],
             [
              0.6666666666666666,
              "#ed7953"
             ],
             [
              0.7777777777777778,
              "#fb9f3a"
             ],
             [
              0.8888888888888888,
              "#fdca26"
             ],
             [
              1,
              "#f0f921"
             ]
            ],
            "type": "histogram2dcontour"
           }
          ],
          "mesh3d": [
           {
            "colorbar": {
             "outlinewidth": 0,
             "ticks": ""
            },
            "type": "mesh3d"
           }
          ],
          "parcoords": [
           {
            "line": {
             "colorbar": {
              "outlinewidth": 0,
              "ticks": ""
             }
            },
            "type": "parcoords"
           }
          ],
          "pie": [
           {
            "automargin": true,
            "type": "pie"
           }
          ],
          "scatter": [
           {
            "fillpattern": {
             "fillmode": "overlay",
             "size": 10,
             "solidity": 0.2
            },
            "type": "scatter"
           }
          ],
          "scatter3d": [
           {
            "line": {
             "colorbar": {
              "outlinewidth": 0,
              "ticks": ""
             }
            },
            "marker": {
             "colorbar": {
              "outlinewidth": 0,
              "ticks": ""
             }
            },
            "type": "scatter3d"
           }
          ],
          "scattercarpet": [
           {
            "marker": {
             "colorbar": {
              "outlinewidth": 0,
              "ticks": ""
             }
            },
            "type": "scattercarpet"
           }
          ],
          "scattergeo": [
           {
            "marker": {
             "colorbar": {
              "outlinewidth": 0,
              "ticks": ""
             }
            },
            "type": "scattergeo"
           }
          ],
          "scattergl": [
           {
            "marker": {
             "colorbar": {
              "outlinewidth": 0,
              "ticks": ""
             }
            },
            "type": "scattergl"
           }
          ],
          "scattermapbox": [
           {
            "marker": {
             "colorbar": {
              "outlinewidth": 0,
              "ticks": ""
             }
            },
            "type": "scattermapbox"
           }
          ],
          "scatterpolar": [
           {
            "marker": {
             "colorbar": {
              "outlinewidth": 0,
              "ticks": ""
             }
            },
            "type": "scatterpolar"
           }
          ],
          "scatterpolargl": [
           {
            "marker": {
             "colorbar": {
              "outlinewidth": 0,
              "ticks": ""
             }
            },
            "type": "scatterpolargl"
           }
          ],
          "scatterternary": [
           {
            "marker": {
             "colorbar": {
              "outlinewidth": 0,
              "ticks": ""
             }
            },
            "type": "scatterternary"
           }
          ],
          "surface": [
           {
            "colorbar": {
             "outlinewidth": 0,
             "ticks": ""
            },
            "colorscale": [
             [
              0,
              "#0d0887"
             ],
             [
              0.1111111111111111,
              "#46039f"
             ],
             [
              0.2222222222222222,
              "#7201a8"
             ],
             [
              0.3333333333333333,
              "#9c179e"
             ],
             [
              0.4444444444444444,
              "#bd3786"
             ],
             [
              0.5555555555555556,
              "#d8576b"
             ],
             [
              0.6666666666666666,
              "#ed7953"
             ],
             [
              0.7777777777777778,
              "#fb9f3a"
             ],
             [
              0.8888888888888888,
              "#fdca26"
             ],
             [
              1,
              "#f0f921"
             ]
            ],
            "type": "surface"
           }
          ],
          "table": [
           {
            "cells": {
             "fill": {
              "color": "#EBF0F8"
             },
             "line": {
              "color": "white"
             }
            },
            "header": {
             "fill": {
              "color": "#C8D4E3"
             },
             "line": {
              "color": "white"
             }
            },
            "type": "table"
           }
          ]
         },
         "layout": {
          "annotationdefaults": {
           "arrowcolor": "#2a3f5f",
           "arrowhead": 0,
           "arrowwidth": 1
          },
          "autotypenumbers": "strict",
          "coloraxis": {
           "colorbar": {
            "outlinewidth": 0,
            "ticks": ""
           }
          },
          "colorscale": {
           "diverging": [
            [
             0,
             "#8e0152"
            ],
            [
             0.1,
             "#c51b7d"
            ],
            [
             0.2,
             "#de77ae"
            ],
            [
             0.3,
             "#f1b6da"
            ],
            [
             0.4,
             "#fde0ef"
            ],
            [
             0.5,
             "#f7f7f7"
            ],
            [
             0.6,
             "#e6f5d0"
            ],
            [
             0.7,
             "#b8e186"
            ],
            [
             0.8,
             "#7fbc41"
            ],
            [
             0.9,
             "#4d9221"
            ],
            [
             1,
             "#276419"
            ]
           ],
           "sequential": [
            [
             0,
             "#0d0887"
            ],
            [
             0.1111111111111111,
             "#46039f"
            ],
            [
             0.2222222222222222,
             "#7201a8"
            ],
            [
             0.3333333333333333,
             "#9c179e"
            ],
            [
             0.4444444444444444,
             "#bd3786"
            ],
            [
             0.5555555555555556,
             "#d8576b"
            ],
            [
             0.6666666666666666,
             "#ed7953"
            ],
            [
             0.7777777777777778,
             "#fb9f3a"
            ],
            [
             0.8888888888888888,
             "#fdca26"
            ],
            [
             1,
             "#f0f921"
            ]
           ],
           "sequentialminus": [
            [
             0,
             "#0d0887"
            ],
            [
             0.1111111111111111,
             "#46039f"
            ],
            [
             0.2222222222222222,
             "#7201a8"
            ],
            [
             0.3333333333333333,
             "#9c179e"
            ],
            [
             0.4444444444444444,
             "#bd3786"
            ],
            [
             0.5555555555555556,
             "#d8576b"
            ],
            [
             0.6666666666666666,
             "#ed7953"
            ],
            [
             0.7777777777777778,
             "#fb9f3a"
            ],
            [
             0.8888888888888888,
             "#fdca26"
            ],
            [
             1,
             "#f0f921"
            ]
           ]
          },
          "colorway": [
           "#636efa",
           "#EF553B",
           "#00cc96",
           "#ab63fa",
           "#FFA15A",
           "#19d3f3",
           "#FF6692",
           "#B6E880",
           "#FF97FF",
           "#FECB52"
          ],
          "font": {
           "color": "#2a3f5f"
          },
          "geo": {
           "bgcolor": "white",
           "lakecolor": "white",
           "landcolor": "#E5ECF6",
           "showlakes": true,
           "showland": true,
           "subunitcolor": "white"
          },
          "hoverlabel": {
           "align": "left"
          },
          "hovermode": "closest",
          "mapbox": {
           "style": "light"
          },
          "paper_bgcolor": "white",
          "plot_bgcolor": "#E5ECF6",
          "polar": {
           "angularaxis": {
            "gridcolor": "white",
            "linecolor": "white",
            "ticks": ""
           },
           "bgcolor": "#E5ECF6",
           "radialaxis": {
            "gridcolor": "white",
            "linecolor": "white",
            "ticks": ""
           }
          },
          "scene": {
           "xaxis": {
            "backgroundcolor": "#E5ECF6",
            "gridcolor": "white",
            "gridwidth": 2,
            "linecolor": "white",
            "showbackground": true,
            "ticks": "",
            "zerolinecolor": "white"
           },
           "yaxis": {
            "backgroundcolor": "#E5ECF6",
            "gridcolor": "white",
            "gridwidth": 2,
            "linecolor": "white",
            "showbackground": true,
            "ticks": "",
            "zerolinecolor": "white"
           },
           "zaxis": {
            "backgroundcolor": "#E5ECF6",
            "gridcolor": "white",
            "gridwidth": 2,
            "linecolor": "white",
            "showbackground": true,
            "ticks": "",
            "zerolinecolor": "white"
           }
          },
          "shapedefaults": {
           "line": {
            "color": "#2a3f5f"
           }
          },
          "ternary": {
           "aaxis": {
            "gridcolor": "white",
            "linecolor": "white",
            "ticks": ""
           },
           "baxis": {
            "gridcolor": "white",
            "linecolor": "white",
            "ticks": ""
           },
           "bgcolor": "#E5ECF6",
           "caxis": {
            "gridcolor": "white",
            "linecolor": "white",
            "ticks": ""
           }
          },
          "title": {
           "x": 0.05
          },
          "xaxis": {
           "automargin": true,
           "gridcolor": "white",
           "linecolor": "white",
           "ticks": "",
           "title": {
            "standoff": 15
           },
           "zerolinecolor": "white",
           "zerolinewidth": 2
          },
          "yaxis": {
           "automargin": true,
           "gridcolor": "white",
           "linecolor": "white",
           "ticks": "",
           "title": {
            "standoff": 15
           },
           "zerolinecolor": "white",
           "zerolinewidth": 2
          }
         }
        },
        "title": {
         "text": "Usage Values Over Time (Z-score Normalization)"
        },
        "xaxis": {
         "anchor": "y",
         "domain": [
          0,
          1
         ],
         "title": {
          "text": "timestamp"
         }
        },
        "yaxis": {
         "anchor": "x",
         "domain": [
          0,
          1
         ],
         "title": {
          "text": "value"
         }
        }
       }
      }
     },
     "metadata": {},
     "output_type": "display_data"
    }
   ],
   "source": [
    "px.scatter(obs_df, x='timestamp', y='value', color='is_outlier', title=\"Usage Values Over Time (Z-score Normalization)\")"
   ]
  },
  {
   "attachments": {},
   "cell_type": "markdown",
   "metadata": {},
   "source": [
    "#### Using One-Class SVM"
   ]
  },
  {
   "cell_type": "code",
   "execution_count": 85,
   "metadata": {},
   "outputs": [],
   "source": [
    "from sklearn.svm import OneClassSVM\n",
    "import numpy as np\n",
    "\n",
    "# Load your dataset into a numpy array, X\n",
    "X = obs_df['value'].to_numpy().reshape(-1, 1)\n",
    "\n",
    "# Create an instance of the OneClassSVM model\n",
    "model = OneClassSVM(kernel='rbf', nu=0.1, gamma=2)\n",
    "\n",
    "# Train the model on your dataset\n",
    "model.fit(X)\n",
    "\n",
    "# Predict the anomaly score for each sample in the dataset\n",
    "obs_df['scores_svm'] = model.decision_function(X)\n",
    "\n",
    "# Identify the outliers based on a threshold score\n",
    "threshold = np.percentile(obs_df['scores_svm'],90)\n",
    "\n",
    "obs_df['is_outlier_svm']= obs_df['scores_svm'] > threshold\n",
    "\n",
    "# Print the number of outliers found\n"
   ]
  },
  {
   "cell_type": "code",
   "execution_count": 86,
   "metadata": {},
   "outputs": [
    {
     "data": {
      "application/vnd.plotly.v1+json": {
       "config": {
        "plotlyServerURL": "https://plot.ly"
       },
       "data": [
        {
         "hovertemplate": "is_outlier_svm=False<br>timestamp=%{x}<br>value=%{y}<extra></extra>",
         "legendgroup": "False",
         "marker": {
          "color": "#636efa",
          "symbol": "circle"
         },
         "mode": "markers",
         "name": "False",
         "orientation": "v",
         "showlegend": true,
         "type": "scatter",
         "x": [
          "2022-01-01 00:00:00",
          "2022-01-01 00:00:01",
          "2022-01-01 00:00:02",
          "2022-01-01 00:00:03",
          "2022-01-01 00:00:06",
          "2022-01-01 00:00:07",
          "2022-01-01 00:00:09",
          "2022-01-01 00:00:10",
          "2022-01-01 00:00:11",
          "2022-01-01 00:00:12",
          "2022-01-01 00:00:13",
          "2022-01-01 00:00:14",
          "2022-01-01 00:00:15",
          "2022-01-01 00:00:16",
          "2022-01-01 00:00:18",
          "2022-01-01 00:00:20",
          "2022-01-01 00:00:21",
          "2022-01-01 00:00:22",
          "2022-01-01 00:00:23",
          "2022-01-01 00:00:25",
          "2022-01-01 00:00:26",
          "2022-01-01 00:00:27",
          "2022-01-01 00:00:28",
          "2022-01-01 00:00:29",
          "2022-01-01 00:00:30",
          "2022-01-01 00:00:31",
          "2022-01-01 00:00:32",
          "2022-01-01 00:00:33",
          "2022-01-01 00:00:34",
          "2022-01-01 00:00:35",
          "2022-01-01 00:00:36",
          "2022-01-01 00:00:37",
          "2022-01-01 00:00:38",
          "2022-01-01 00:00:39",
          "2022-01-01 00:00:40",
          "2022-01-01 00:00:42",
          "2022-01-01 00:00:43",
          "2022-01-01 00:00:44",
          "2022-01-01 00:00:45",
          "2022-01-01 00:00:46",
          "2022-01-01 00:00:47",
          "2022-01-01 00:00:48",
          "2022-01-01 00:00:49",
          "2022-01-01 00:00:50",
          "2022-01-01 00:00:51",
          "2022-01-01 00:00:52",
          "2022-01-01 00:00:53",
          "2022-01-01 00:00:54",
          "2022-01-01 00:00:55",
          "2022-01-01 00:00:56",
          "2022-01-01 00:00:57",
          "2022-01-01 00:00:58",
          "2022-01-01 00:00:59",
          "2022-01-01 00:01:00",
          "2022-01-01 00:01:01",
          "2022-01-01 00:01:02",
          "2022-01-01 00:01:03",
          "2022-01-01 00:01:04",
          "2022-01-01 00:01:05",
          "2022-01-01 00:01:06",
          "2022-01-01 00:01:07",
          "2022-01-01 00:01:08",
          "2022-01-01 00:01:09",
          "2022-01-01 00:01:10",
          "2022-01-01 00:01:12",
          "2022-01-01 00:01:14",
          "2022-01-01 00:01:15",
          "2022-01-01 00:01:16",
          "2022-01-01 00:01:17",
          "2022-01-01 00:01:18",
          "2022-01-01 00:01:19",
          "2022-01-01 00:01:20",
          "2022-01-01 00:01:21",
          "2022-01-01 00:01:22",
          "2022-01-01 00:01:23",
          "2022-01-01 00:01:24",
          "2022-01-01 00:01:25",
          "2022-01-01 00:01:26",
          "2022-01-01 00:01:27",
          "2022-01-01 00:01:28",
          "2022-01-01 00:01:30",
          "2022-01-01 00:01:31",
          "2022-01-01 00:01:32",
          "2022-01-01 00:01:33",
          "2022-01-01 00:01:34",
          "2022-01-01 00:01:35",
          "2022-01-01 00:01:36",
          "2022-01-01 00:01:37",
          "2022-01-01 00:01:38",
          "2022-01-01 00:01:39"
         ],
         "xaxis": "x",
         "y": [
          16.681384200774634,
          26.702124278170626,
          43.616465758105136,
          16.96117263180629,
          49.84316140631191,
          46.42134676142567,
          12.569709606182595,
          41.220507770108064,
          25.50755515991692,
          39.14516370169039,
          78.27298105167554,
          47.97800290413701,
          21.68993092082664,
          45.05169539118231,
          21.567462303248757,
          84.32383676595158,
          42.23947617912738,
          71.17919503213612,
          27.558032844395367,
          44.47629813925948,
          17.748106141328705,
          45.16463242687902,
          19.272753758882416,
          19.492088458202996,
          27.368581305428936,
          38.3876101790526,
          31.62213238648776,
          46.217335603772426,
          65.67002203744259,
          27.2948449265608,
          28.644994045429648,
          20.495509974368943,
          20.510280282218773,
          33.39346633531592,
          11.398866914819546,
          49.80365218858523,
          38.7719881168626,
          24.60045882251166,
          43.51924575991484,
          40.13028397471224,
          21.733521943696527,
          14.012999677081057,
          40.554379587936864,
          29.33389192744,
          68.94331493236966,
          43.8187979732893,
          47.08425612951212,
          41.09425541653656,
          28.77089841726676,
          38.56686049551725,
          47.266610657319575,
          69.8400731861156,
          24.600347414340497,
          16.126818009393865,
          46.49459665141392,
          43.04818070883708,
          32.64371584634702,
          27.617013975889535,
          43.0441587692615,
          41.05345112944151,
          27.76433896396087,
          30.474714016891067,
          73.3940661404701,
          46.97983064768236,
          74.09385468773235,
          29.820474749418103,
          48.68288916601477,
          49.27928669362672,
          18.601834255382187,
          31.681520974369576,
          15.005632834049717,
          23.11528067560486,
          17.584170024120343,
          47.11302358069992,
          10.895603355736686,
          32.665367219303505,
          10.230996440706912,
          37.65702225974496,
          20.65098559117613,
          32.3781076246968,
          17.734343371192068,
          28.038232009336536,
          17.756384338830102,
          20.77852344800164,
          46.47209960532814,
          34.883442606465984,
          17.81470784209059,
          48.7889192021253,
          45.93373281452725,
          28.4288441802643
         ],
         "yaxis": "y"
        },
        {
         "hovertemplate": "is_outlier_svm=True<br>timestamp=%{x}<br>value=%{y}<extra></extra>",
         "legendgroup": "True",
         "marker": {
          "color": "#EF553B",
          "symbol": "circle"
         },
         "mode": "markers",
         "name": "True",
         "orientation": "v",
         "showlegend": true,
         "type": "scatter",
         "x": [
          "2022-01-01 00:00:04",
          "2022-01-01 00:00:05",
          "2022-01-01 00:00:08",
          "2022-01-01 00:00:17",
          "2022-01-01 00:00:19",
          "2022-01-01 00:00:24",
          "2022-01-01 00:00:41",
          "2022-01-01 00:01:11",
          "2022-01-01 00:01:13",
          "2022-01-01 00:01:29"
         ],
         "xaxis": "x",
         "y": [
          16.365176516261414,
          37.7693703930941,
          33.207460836903785,
          14.397258004667377,
          24.921202557854723,
          16.65443909436607,
          24.76866253109796,
          42.46663716613254,
          32.051916172946946,
          14.656135347756525
         ],
         "yaxis": "y"
        }
       ],
       "layout": {
        "legend": {
         "title": {
          "text": "is_outlier_svm"
         },
         "tracegroupgap": 0
        },
        "template": {
         "data": {
          "bar": [
           {
            "error_x": {
             "color": "#2a3f5f"
            },
            "error_y": {
             "color": "#2a3f5f"
            },
            "marker": {
             "line": {
              "color": "#E5ECF6",
              "width": 0.5
             },
             "pattern": {
              "fillmode": "overlay",
              "size": 10,
              "solidity": 0.2
             }
            },
            "type": "bar"
           }
          ],
          "barpolar": [
           {
            "marker": {
             "line": {
              "color": "#E5ECF6",
              "width": 0.5
             },
             "pattern": {
              "fillmode": "overlay",
              "size": 10,
              "solidity": 0.2
             }
            },
            "type": "barpolar"
           }
          ],
          "carpet": [
           {
            "aaxis": {
             "endlinecolor": "#2a3f5f",
             "gridcolor": "white",
             "linecolor": "white",
             "minorgridcolor": "white",
             "startlinecolor": "#2a3f5f"
            },
            "baxis": {
             "endlinecolor": "#2a3f5f",
             "gridcolor": "white",
             "linecolor": "white",
             "minorgridcolor": "white",
             "startlinecolor": "#2a3f5f"
            },
            "type": "carpet"
           }
          ],
          "choropleth": [
           {
            "colorbar": {
             "outlinewidth": 0,
             "ticks": ""
            },
            "type": "choropleth"
           }
          ],
          "contour": [
           {
            "colorbar": {
             "outlinewidth": 0,
             "ticks": ""
            },
            "colorscale": [
             [
              0,
              "#0d0887"
             ],
             [
              0.1111111111111111,
              "#46039f"
             ],
             [
              0.2222222222222222,
              "#7201a8"
             ],
             [
              0.3333333333333333,
              "#9c179e"
             ],
             [
              0.4444444444444444,
              "#bd3786"
             ],
             [
              0.5555555555555556,
              "#d8576b"
             ],
             [
              0.6666666666666666,
              "#ed7953"
             ],
             [
              0.7777777777777778,
              "#fb9f3a"
             ],
             [
              0.8888888888888888,
              "#fdca26"
             ],
             [
              1,
              "#f0f921"
             ]
            ],
            "type": "contour"
           }
          ],
          "contourcarpet": [
           {
            "colorbar": {
             "outlinewidth": 0,
             "ticks": ""
            },
            "type": "contourcarpet"
           }
          ],
          "heatmap": [
           {
            "colorbar": {
             "outlinewidth": 0,
             "ticks": ""
            },
            "colorscale": [
             [
              0,
              "#0d0887"
             ],
             [
              0.1111111111111111,
              "#46039f"
             ],
             [
              0.2222222222222222,
              "#7201a8"
             ],
             [
              0.3333333333333333,
              "#9c179e"
             ],
             [
              0.4444444444444444,
              "#bd3786"
             ],
             [
              0.5555555555555556,
              "#d8576b"
             ],
             [
              0.6666666666666666,
              "#ed7953"
             ],
             [
              0.7777777777777778,
              "#fb9f3a"
             ],
             [
              0.8888888888888888,
              "#fdca26"
             ],
             [
              1,
              "#f0f921"
             ]
            ],
            "type": "heatmap"
           }
          ],
          "heatmapgl": [
           {
            "colorbar": {
             "outlinewidth": 0,
             "ticks": ""
            },
            "colorscale": [
             [
              0,
              "#0d0887"
             ],
             [
              0.1111111111111111,
              "#46039f"
             ],
             [
              0.2222222222222222,
              "#7201a8"
             ],
             [
              0.3333333333333333,
              "#9c179e"
             ],
             [
              0.4444444444444444,
              "#bd3786"
             ],
             [
              0.5555555555555556,
              "#d8576b"
             ],
             [
              0.6666666666666666,
              "#ed7953"
             ],
             [
              0.7777777777777778,
              "#fb9f3a"
             ],
             [
              0.8888888888888888,
              "#fdca26"
             ],
             [
              1,
              "#f0f921"
             ]
            ],
            "type": "heatmapgl"
           }
          ],
          "histogram": [
           {
            "marker": {
             "pattern": {
              "fillmode": "overlay",
              "size": 10,
              "solidity": 0.2
             }
            },
            "type": "histogram"
           }
          ],
          "histogram2d": [
           {
            "colorbar": {
             "outlinewidth": 0,
             "ticks": ""
            },
            "colorscale": [
             [
              0,
              "#0d0887"
             ],
             [
              0.1111111111111111,
              "#46039f"
             ],
             [
              0.2222222222222222,
              "#7201a8"
             ],
             [
              0.3333333333333333,
              "#9c179e"
             ],
             [
              0.4444444444444444,
              "#bd3786"
             ],
             [
              0.5555555555555556,
              "#d8576b"
             ],
             [
              0.6666666666666666,
              "#ed7953"
             ],
             [
              0.7777777777777778,
              "#fb9f3a"
             ],
             [
              0.8888888888888888,
              "#fdca26"
             ],
             [
              1,
              "#f0f921"
             ]
            ],
            "type": "histogram2d"
           }
          ],
          "histogram2dcontour": [
           {
            "colorbar": {
             "outlinewidth": 0,
             "ticks": ""
            },
            "colorscale": [
             [
              0,
              "#0d0887"
             ],
             [
              0.1111111111111111,
              "#46039f"
             ],
             [
              0.2222222222222222,
              "#7201a8"
             ],
             [
              0.3333333333333333,
              "#9c179e"
             ],
             [
              0.4444444444444444,
              "#bd3786"
             ],
             [
              0.5555555555555556,
              "#d8576b"
             ],
             [
              0.6666666666666666,
              "#ed7953"
             ],
             [
              0.7777777777777778,
              "#fb9f3a"
             ],
             [
              0.8888888888888888,
              "#fdca26"
             ],
             [
              1,
              "#f0f921"
             ]
            ],
            "type": "histogram2dcontour"
           }
          ],
          "mesh3d": [
           {
            "colorbar": {
             "outlinewidth": 0,
             "ticks": ""
            },
            "type": "mesh3d"
           }
          ],
          "parcoords": [
           {
            "line": {
             "colorbar": {
              "outlinewidth": 0,
              "ticks": ""
             }
            },
            "type": "parcoords"
           }
          ],
          "pie": [
           {
            "automargin": true,
            "type": "pie"
           }
          ],
          "scatter": [
           {
            "fillpattern": {
             "fillmode": "overlay",
             "size": 10,
             "solidity": 0.2
            },
            "type": "scatter"
           }
          ],
          "scatter3d": [
           {
            "line": {
             "colorbar": {
              "outlinewidth": 0,
              "ticks": ""
             }
            },
            "marker": {
             "colorbar": {
              "outlinewidth": 0,
              "ticks": ""
             }
            },
            "type": "scatter3d"
           }
          ],
          "scattercarpet": [
           {
            "marker": {
             "colorbar": {
              "outlinewidth": 0,
              "ticks": ""
             }
            },
            "type": "scattercarpet"
           }
          ],
          "scattergeo": [
           {
            "marker": {
             "colorbar": {
              "outlinewidth": 0,
              "ticks": ""
             }
            },
            "type": "scattergeo"
           }
          ],
          "scattergl": [
           {
            "marker": {
             "colorbar": {
              "outlinewidth": 0,
              "ticks": ""
             }
            },
            "type": "scattergl"
           }
          ],
          "scattermapbox": [
           {
            "marker": {
             "colorbar": {
              "outlinewidth": 0,
              "ticks": ""
             }
            },
            "type": "scattermapbox"
           }
          ],
          "scatterpolar": [
           {
            "marker": {
             "colorbar": {
              "outlinewidth": 0,
              "ticks": ""
             }
            },
            "type": "scatterpolar"
           }
          ],
          "scatterpolargl": [
           {
            "marker": {
             "colorbar": {
              "outlinewidth": 0,
              "ticks": ""
             }
            },
            "type": "scatterpolargl"
           }
          ],
          "scatterternary": [
           {
            "marker": {
             "colorbar": {
              "outlinewidth": 0,
              "ticks": ""
             }
            },
            "type": "scatterternary"
           }
          ],
          "surface": [
           {
            "colorbar": {
             "outlinewidth": 0,
             "ticks": ""
            },
            "colorscale": [
             [
              0,
              "#0d0887"
             ],
             [
              0.1111111111111111,
              "#46039f"
             ],
             [
              0.2222222222222222,
              "#7201a8"
             ],
             [
              0.3333333333333333,
              "#9c179e"
             ],
             [
              0.4444444444444444,
              "#bd3786"
             ],
             [
              0.5555555555555556,
              "#d8576b"
             ],
             [
              0.6666666666666666,
              "#ed7953"
             ],
             [
              0.7777777777777778,
              "#fb9f3a"
             ],
             [
              0.8888888888888888,
              "#fdca26"
             ],
             [
              1,
              "#f0f921"
             ]
            ],
            "type": "surface"
           }
          ],
          "table": [
           {
            "cells": {
             "fill": {
              "color": "#EBF0F8"
             },
             "line": {
              "color": "white"
             }
            },
            "header": {
             "fill": {
              "color": "#C8D4E3"
             },
             "line": {
              "color": "white"
             }
            },
            "type": "table"
           }
          ]
         },
         "layout": {
          "annotationdefaults": {
           "arrowcolor": "#2a3f5f",
           "arrowhead": 0,
           "arrowwidth": 1
          },
          "autotypenumbers": "strict",
          "coloraxis": {
           "colorbar": {
            "outlinewidth": 0,
            "ticks": ""
           }
          },
          "colorscale": {
           "diverging": [
            [
             0,
             "#8e0152"
            ],
            [
             0.1,
             "#c51b7d"
            ],
            [
             0.2,
             "#de77ae"
            ],
            [
             0.3,
             "#f1b6da"
            ],
            [
             0.4,
             "#fde0ef"
            ],
            [
             0.5,
             "#f7f7f7"
            ],
            [
             0.6,
             "#e6f5d0"
            ],
            [
             0.7,
             "#b8e186"
            ],
            [
             0.8,
             "#7fbc41"
            ],
            [
             0.9,
             "#4d9221"
            ],
            [
             1,
             "#276419"
            ]
           ],
           "sequential": [
            [
             0,
             "#0d0887"
            ],
            [
             0.1111111111111111,
             "#46039f"
            ],
            [
             0.2222222222222222,
             "#7201a8"
            ],
            [
             0.3333333333333333,
             "#9c179e"
            ],
            [
             0.4444444444444444,
             "#bd3786"
            ],
            [
             0.5555555555555556,
             "#d8576b"
            ],
            [
             0.6666666666666666,
             "#ed7953"
            ],
            [
             0.7777777777777778,
             "#fb9f3a"
            ],
            [
             0.8888888888888888,
             "#fdca26"
            ],
            [
             1,
             "#f0f921"
            ]
           ],
           "sequentialminus": [
            [
             0,
             "#0d0887"
            ],
            [
             0.1111111111111111,
             "#46039f"
            ],
            [
             0.2222222222222222,
             "#7201a8"
            ],
            [
             0.3333333333333333,
             "#9c179e"
            ],
            [
             0.4444444444444444,
             "#bd3786"
            ],
            [
             0.5555555555555556,
             "#d8576b"
            ],
            [
             0.6666666666666666,
             "#ed7953"
            ],
            [
             0.7777777777777778,
             "#fb9f3a"
            ],
            [
             0.8888888888888888,
             "#fdca26"
            ],
            [
             1,
             "#f0f921"
            ]
           ]
          },
          "colorway": [
           "#636efa",
           "#EF553B",
           "#00cc96",
           "#ab63fa",
           "#FFA15A",
           "#19d3f3",
           "#FF6692",
           "#B6E880",
           "#FF97FF",
           "#FECB52"
          ],
          "font": {
           "color": "#2a3f5f"
          },
          "geo": {
           "bgcolor": "white",
           "lakecolor": "white",
           "landcolor": "#E5ECF6",
           "showlakes": true,
           "showland": true,
           "subunitcolor": "white"
          },
          "hoverlabel": {
           "align": "left"
          },
          "hovermode": "closest",
          "mapbox": {
           "style": "light"
          },
          "paper_bgcolor": "white",
          "plot_bgcolor": "#E5ECF6",
          "polar": {
           "angularaxis": {
            "gridcolor": "white",
            "linecolor": "white",
            "ticks": ""
           },
           "bgcolor": "#E5ECF6",
           "radialaxis": {
            "gridcolor": "white",
            "linecolor": "white",
            "ticks": ""
           }
          },
          "scene": {
           "xaxis": {
            "backgroundcolor": "#E5ECF6",
            "gridcolor": "white",
            "gridwidth": 2,
            "linecolor": "white",
            "showbackground": true,
            "ticks": "",
            "zerolinecolor": "white"
           },
           "yaxis": {
            "backgroundcolor": "#E5ECF6",
            "gridcolor": "white",
            "gridwidth": 2,
            "linecolor": "white",
            "showbackground": true,
            "ticks": "",
            "zerolinecolor": "white"
           },
           "zaxis": {
            "backgroundcolor": "#E5ECF6",
            "gridcolor": "white",
            "gridwidth": 2,
            "linecolor": "white",
            "showbackground": true,
            "ticks": "",
            "zerolinecolor": "white"
           }
          },
          "shapedefaults": {
           "line": {
            "color": "#2a3f5f"
           }
          },
          "ternary": {
           "aaxis": {
            "gridcolor": "white",
            "linecolor": "white",
            "ticks": ""
           },
           "baxis": {
            "gridcolor": "white",
            "linecolor": "white",
            "ticks": ""
           },
           "bgcolor": "#E5ECF6",
           "caxis": {
            "gridcolor": "white",
            "linecolor": "white",
            "ticks": ""
           }
          },
          "title": {
           "x": 0.05
          },
          "xaxis": {
           "automargin": true,
           "gridcolor": "white",
           "linecolor": "white",
           "ticks": "",
           "title": {
            "standoff": 15
           },
           "zerolinecolor": "white",
           "zerolinewidth": 2
          },
          "yaxis": {
           "automargin": true,
           "gridcolor": "white",
           "linecolor": "white",
           "ticks": "",
           "title": {
            "standoff": 15
           },
           "zerolinecolor": "white",
           "zerolinewidth": 2
          }
         }
        },
        "title": {
         "text": "Usage Values Over Time (One-Class SVM)"
        },
        "xaxis": {
         "anchor": "y",
         "domain": [
          0,
          1
         ],
         "title": {
          "text": "timestamp"
         }
        },
        "yaxis": {
         "anchor": "x",
         "domain": [
          0,
          1
         ],
         "title": {
          "text": "value"
         }
        }
       }
      }
     },
     "metadata": {},
     "output_type": "display_data"
    }
   ],
   "source": [
    "px.scatter(obs_df, x=\"timestamp\", y=\"value\", color =\"is_outlier_svm\", title=\"Usage Values Over Time (One-Class SVM)\")"
   ]
  },
  {
   "attachments": {},
   "cell_type": "markdown",
   "metadata": {},
   "source": [
    "#### Using KMeans Clustering"
   ]
  },
  {
   "cell_type": "code",
   "execution_count": 103,
   "metadata": {},
   "outputs": [
    {
     "name": "stdout",
     "output_type": "stream",
     "text": [
      "cluster\n",
      "0    28.702747\n",
      "1    46.993167\n",
      "2    73.214668\n",
      "3    17.120957\n",
      "4    40.398250\n",
      "Name: value, dtype: float64\n",
      "Number of anomalies: 8\n"
     ]
    }
   ],
   "source": [
    "from sklearn.cluster import KMeans\n",
    "\n",
    "# Convert the float column to a numpy array\n",
    "X = np.array(obs_df['value']).reshape(-1, 1)\n",
    "\n",
    "# Define the number of clusters\n",
    "n_clusters = 5\n",
    "\n",
    "# Initialize the KMeans model with the specified number of clusters\n",
    "model = KMeans(n_clusters=n_clusters)\n",
    "\n",
    "# Fit the model to the data\n",
    "model.fit(X)\n",
    "\n",
    "# Get the cluster labels for each data point\n",
    "labels = model.labels_\n",
    "\n",
    "# Create a new column in the DataFrame for the cluster labels\n",
    "obs_df['cluster'] = labels\n",
    "\n",
    "# Get the average value for each cluster\n",
    "cluster_means = obs_df.groupby('cluster')['value'].mean()\n",
    "\n",
    "print(cluster_means)\n",
    "\n",
    "obs_df['clusters'] = model.predict(obs_df['value'].to_numpy().reshape(-1,1))\n",
    "\n",
    "obs_df['distances'] = obs_df['clusters'].apply(lambda x: cluster_means[x])\n",
    "\n",
    "# Calculate the standard deviation of the distances\n",
    "std_dev = obs_df['distances'].std()\n",
    "\n",
    "# Define a threshold for anomalies as a multiple of the standard deviation\n",
    "threshold = std_dev * 3\n",
    "\n",
    "# Create a new column in the DataFrame to flag anomalies as True or False\n",
    "obs_df['is_anomaly_kmeans'] = obs_df['distances'] > threshold\n",
    "\n",
    "# Count the number of anomalies found\n",
    "num_anomalies = obs_df['is_anomaly_kmeans'].sum()\n",
    "\n",
    "# Print the number of anomalies found\n",
    "print(\"Number of anomalies:\", num_anomalies)"
   ]
  },
  {
   "cell_type": "code",
   "execution_count": 105,
   "metadata": {},
   "outputs": [
    {
     "data": {
      "application/vnd.plotly.v1+json": {
       "config": {
        "plotlyServerURL": "https://plot.ly"
       },
       "data": [
        {
         "hovertemplate": "is_anomaly_kmeans=False<br>timestamp=%{x}<br>value=%{y}<extra></extra>",
         "legendgroup": "False",
         "marker": {
          "color": "#636efa",
          "symbol": "circle"
         },
         "mode": "markers",
         "name": "False",
         "orientation": "v",
         "showlegend": true,
         "type": "scatter",
         "x": [
          "2022-01-01 00:00:00",
          "2022-01-01 00:00:01",
          "2022-01-01 00:00:02",
          "2022-01-01 00:00:03",
          "2022-01-01 00:00:04",
          "2022-01-01 00:00:05",
          "2022-01-01 00:00:06",
          "2022-01-01 00:00:07",
          "2022-01-01 00:00:08",
          "2022-01-01 00:00:09",
          "2022-01-01 00:00:10",
          "2022-01-01 00:00:11",
          "2022-01-01 00:00:12",
          "2022-01-01 00:00:14",
          "2022-01-01 00:00:15",
          "2022-01-01 00:00:16",
          "2022-01-01 00:00:17",
          "2022-01-01 00:00:18",
          "2022-01-01 00:00:19",
          "2022-01-01 00:00:21",
          "2022-01-01 00:00:23",
          "2022-01-01 00:00:24",
          "2022-01-01 00:00:25",
          "2022-01-01 00:00:26",
          "2022-01-01 00:00:27",
          "2022-01-01 00:00:28",
          "2022-01-01 00:00:29",
          "2022-01-01 00:00:30",
          "2022-01-01 00:00:31",
          "2022-01-01 00:00:32",
          "2022-01-01 00:00:33",
          "2022-01-01 00:00:35",
          "2022-01-01 00:00:36",
          "2022-01-01 00:00:37",
          "2022-01-01 00:00:38",
          "2022-01-01 00:00:39",
          "2022-01-01 00:00:40",
          "2022-01-01 00:00:41",
          "2022-01-01 00:00:42",
          "2022-01-01 00:00:43",
          "2022-01-01 00:00:44",
          "2022-01-01 00:00:45",
          "2022-01-01 00:00:46",
          "2022-01-01 00:00:47",
          "2022-01-01 00:00:48",
          "2022-01-01 00:00:49",
          "2022-01-01 00:00:50",
          "2022-01-01 00:00:52",
          "2022-01-01 00:00:53",
          "2022-01-01 00:00:54",
          "2022-01-01 00:00:55",
          "2022-01-01 00:00:56",
          "2022-01-01 00:00:57",
          "2022-01-01 00:00:59",
          "2022-01-01 00:01:00",
          "2022-01-01 00:01:01",
          "2022-01-01 00:01:02",
          "2022-01-01 00:01:03",
          "2022-01-01 00:01:04",
          "2022-01-01 00:01:05",
          "2022-01-01 00:01:06",
          "2022-01-01 00:01:07",
          "2022-01-01 00:01:08",
          "2022-01-01 00:01:10",
          "2022-01-01 00:01:11",
          "2022-01-01 00:01:13",
          "2022-01-01 00:01:14",
          "2022-01-01 00:01:15",
          "2022-01-01 00:01:16",
          "2022-01-01 00:01:17",
          "2022-01-01 00:01:18",
          "2022-01-01 00:01:19",
          "2022-01-01 00:01:20",
          "2022-01-01 00:01:21",
          "2022-01-01 00:01:22",
          "2022-01-01 00:01:23",
          "2022-01-01 00:01:24",
          "2022-01-01 00:01:25",
          "2022-01-01 00:01:26",
          "2022-01-01 00:01:27",
          "2022-01-01 00:01:28",
          "2022-01-01 00:01:29",
          "2022-01-01 00:01:30",
          "2022-01-01 00:01:31",
          "2022-01-01 00:01:32",
          "2022-01-01 00:01:33",
          "2022-01-01 00:01:34",
          "2022-01-01 00:01:35",
          "2022-01-01 00:01:36",
          "2022-01-01 00:01:37",
          "2022-01-01 00:01:38",
          "2022-01-01 00:01:39"
         ],
         "xaxis": "x",
         "y": [
          16.681384200774634,
          26.702124278170626,
          43.616465758105136,
          16.96117263180629,
          16.365176516261414,
          37.7693703930941,
          49.84316140631191,
          46.42134676142567,
          33.207460836903785,
          12.569709606182595,
          41.220507770108064,
          25.50755515991692,
          39.14516370169039,
          47.97800290413701,
          21.68993092082664,
          45.05169539118231,
          14.397258004667377,
          21.567462303248757,
          24.921202557854723,
          42.23947617912738,
          27.558032844395367,
          16.65443909436607,
          44.47629813925948,
          17.748106141328705,
          45.16463242687902,
          19.272753758882416,
          19.492088458202996,
          27.368581305428936,
          38.3876101790526,
          31.62213238648776,
          46.217335603772426,
          27.2948449265608,
          28.644994045429648,
          20.495509974368943,
          20.510280282218773,
          33.39346633531592,
          11.398866914819546,
          24.76866253109796,
          49.80365218858523,
          38.7719881168626,
          24.60045882251166,
          43.51924575991484,
          40.13028397471224,
          21.733521943696527,
          14.012999677081057,
          40.554379587936864,
          29.33389192744,
          43.8187979732893,
          47.08425612951212,
          41.09425541653656,
          28.77089841726676,
          38.56686049551725,
          47.266610657319575,
          24.600347414340497,
          16.126818009393865,
          46.49459665141392,
          43.04818070883708,
          32.64371584634702,
          27.617013975889535,
          43.0441587692615,
          41.05345112944151,
          27.76433896396087,
          30.474714016891067,
          46.97983064768236,
          42.46663716613254,
          32.051916172946946,
          29.820474749418103,
          48.68288916601477,
          49.27928669362672,
          18.601834255382187,
          31.681520974369576,
          15.005632834049717,
          23.11528067560486,
          17.584170024120343,
          47.11302358069992,
          10.895603355736686,
          32.665367219303505,
          10.230996440706912,
          37.65702225974496,
          20.65098559117613,
          32.3781076246968,
          14.656135347756525,
          17.734343371192068,
          28.038232009336536,
          17.756384338830102,
          20.77852344800164,
          46.47209960532814,
          34.883442606465984,
          17.81470784209059,
          48.7889192021253,
          45.93373281452725,
          28.4288441802643
         ],
         "yaxis": "y"
        },
        {
         "hovertemplate": "is_anomaly_kmeans=True<br>timestamp=%{x}<br>value=%{y}<extra></extra>",
         "legendgroup": "True",
         "marker": {
          "color": "#EF553B",
          "symbol": "circle"
         },
         "mode": "markers",
         "name": "True",
         "orientation": "v",
         "showlegend": true,
         "type": "scatter",
         "x": [
          "2022-01-01 00:00:13",
          "2022-01-01 00:00:20",
          "2022-01-01 00:00:22",
          "2022-01-01 00:00:34",
          "2022-01-01 00:00:51",
          "2022-01-01 00:00:58",
          "2022-01-01 00:01:09",
          "2022-01-01 00:01:12"
         ],
         "xaxis": "x",
         "y": [
          78.27298105167554,
          84.32383676595158,
          71.17919503213612,
          65.67002203744259,
          68.94331493236966,
          69.8400731861156,
          73.3940661404701,
          74.09385468773235
         ],
         "yaxis": "y"
        }
       ],
       "layout": {
        "legend": {
         "title": {
          "text": "is_anomaly_kmeans"
         },
         "tracegroupgap": 0
        },
        "template": {
         "data": {
          "bar": [
           {
            "error_x": {
             "color": "#2a3f5f"
            },
            "error_y": {
             "color": "#2a3f5f"
            },
            "marker": {
             "line": {
              "color": "#E5ECF6",
              "width": 0.5
             },
             "pattern": {
              "fillmode": "overlay",
              "size": 10,
              "solidity": 0.2
             }
            },
            "type": "bar"
           }
          ],
          "barpolar": [
           {
            "marker": {
             "line": {
              "color": "#E5ECF6",
              "width": 0.5
             },
             "pattern": {
              "fillmode": "overlay",
              "size": 10,
              "solidity": 0.2
             }
            },
            "type": "barpolar"
           }
          ],
          "carpet": [
           {
            "aaxis": {
             "endlinecolor": "#2a3f5f",
             "gridcolor": "white",
             "linecolor": "white",
             "minorgridcolor": "white",
             "startlinecolor": "#2a3f5f"
            },
            "baxis": {
             "endlinecolor": "#2a3f5f",
             "gridcolor": "white",
             "linecolor": "white",
             "minorgridcolor": "white",
             "startlinecolor": "#2a3f5f"
            },
            "type": "carpet"
           }
          ],
          "choropleth": [
           {
            "colorbar": {
             "outlinewidth": 0,
             "ticks": ""
            },
            "type": "choropleth"
           }
          ],
          "contour": [
           {
            "colorbar": {
             "outlinewidth": 0,
             "ticks": ""
            },
            "colorscale": [
             [
              0,
              "#0d0887"
             ],
             [
              0.1111111111111111,
              "#46039f"
             ],
             [
              0.2222222222222222,
              "#7201a8"
             ],
             [
              0.3333333333333333,
              "#9c179e"
             ],
             [
              0.4444444444444444,
              "#bd3786"
             ],
             [
              0.5555555555555556,
              "#d8576b"
             ],
             [
              0.6666666666666666,
              "#ed7953"
             ],
             [
              0.7777777777777778,
              "#fb9f3a"
             ],
             [
              0.8888888888888888,
              "#fdca26"
             ],
             [
              1,
              "#f0f921"
             ]
            ],
            "type": "contour"
           }
          ],
          "contourcarpet": [
           {
            "colorbar": {
             "outlinewidth": 0,
             "ticks": ""
            },
            "type": "contourcarpet"
           }
          ],
          "heatmap": [
           {
            "colorbar": {
             "outlinewidth": 0,
             "ticks": ""
            },
            "colorscale": [
             [
              0,
              "#0d0887"
             ],
             [
              0.1111111111111111,
              "#46039f"
             ],
             [
              0.2222222222222222,
              "#7201a8"
             ],
             [
              0.3333333333333333,
              "#9c179e"
             ],
             [
              0.4444444444444444,
              "#bd3786"
             ],
             [
              0.5555555555555556,
              "#d8576b"
             ],
             [
              0.6666666666666666,
              "#ed7953"
             ],
             [
              0.7777777777777778,
              "#fb9f3a"
             ],
             [
              0.8888888888888888,
              "#fdca26"
             ],
             [
              1,
              "#f0f921"
             ]
            ],
            "type": "heatmap"
           }
          ],
          "heatmapgl": [
           {
            "colorbar": {
             "outlinewidth": 0,
             "ticks": ""
            },
            "colorscale": [
             [
              0,
              "#0d0887"
             ],
             [
              0.1111111111111111,
              "#46039f"
             ],
             [
              0.2222222222222222,
              "#7201a8"
             ],
             [
              0.3333333333333333,
              "#9c179e"
             ],
             [
              0.4444444444444444,
              "#bd3786"
             ],
             [
              0.5555555555555556,
              "#d8576b"
             ],
             [
              0.6666666666666666,
              "#ed7953"
             ],
             [
              0.7777777777777778,
              "#fb9f3a"
             ],
             [
              0.8888888888888888,
              "#fdca26"
             ],
             [
              1,
              "#f0f921"
             ]
            ],
            "type": "heatmapgl"
           }
          ],
          "histogram": [
           {
            "marker": {
             "pattern": {
              "fillmode": "overlay",
              "size": 10,
              "solidity": 0.2
             }
            },
            "type": "histogram"
           }
          ],
          "histogram2d": [
           {
            "colorbar": {
             "outlinewidth": 0,
             "ticks": ""
            },
            "colorscale": [
             [
              0,
              "#0d0887"
             ],
             [
              0.1111111111111111,
              "#46039f"
             ],
             [
              0.2222222222222222,
              "#7201a8"
             ],
             [
              0.3333333333333333,
              "#9c179e"
             ],
             [
              0.4444444444444444,
              "#bd3786"
             ],
             [
              0.5555555555555556,
              "#d8576b"
             ],
             [
              0.6666666666666666,
              "#ed7953"
             ],
             [
              0.7777777777777778,
              "#fb9f3a"
             ],
             [
              0.8888888888888888,
              "#fdca26"
             ],
             [
              1,
              "#f0f921"
             ]
            ],
            "type": "histogram2d"
           }
          ],
          "histogram2dcontour": [
           {
            "colorbar": {
             "outlinewidth": 0,
             "ticks": ""
            },
            "colorscale": [
             [
              0,
              "#0d0887"
             ],
             [
              0.1111111111111111,
              "#46039f"
             ],
             [
              0.2222222222222222,
              "#7201a8"
             ],
             [
              0.3333333333333333,
              "#9c179e"
             ],
             [
              0.4444444444444444,
              "#bd3786"
             ],
             [
              0.5555555555555556,
              "#d8576b"
             ],
             [
              0.6666666666666666,
              "#ed7953"
             ],
             [
              0.7777777777777778,
              "#fb9f3a"
             ],
             [
              0.8888888888888888,
              "#fdca26"
             ],
             [
              1,
              "#f0f921"
             ]
            ],
            "type": "histogram2dcontour"
           }
          ],
          "mesh3d": [
           {
            "colorbar": {
             "outlinewidth": 0,
             "ticks": ""
            },
            "type": "mesh3d"
           }
          ],
          "parcoords": [
           {
            "line": {
             "colorbar": {
              "outlinewidth": 0,
              "ticks": ""
             }
            },
            "type": "parcoords"
           }
          ],
          "pie": [
           {
            "automargin": true,
            "type": "pie"
           }
          ],
          "scatter": [
           {
            "fillpattern": {
             "fillmode": "overlay",
             "size": 10,
             "solidity": 0.2
            },
            "type": "scatter"
           }
          ],
          "scatter3d": [
           {
            "line": {
             "colorbar": {
              "outlinewidth": 0,
              "ticks": ""
             }
            },
            "marker": {
             "colorbar": {
              "outlinewidth": 0,
              "ticks": ""
             }
            },
            "type": "scatter3d"
           }
          ],
          "scattercarpet": [
           {
            "marker": {
             "colorbar": {
              "outlinewidth": 0,
              "ticks": ""
             }
            },
            "type": "scattercarpet"
           }
          ],
          "scattergeo": [
           {
            "marker": {
             "colorbar": {
              "outlinewidth": 0,
              "ticks": ""
             }
            },
            "type": "scattergeo"
           }
          ],
          "scattergl": [
           {
            "marker": {
             "colorbar": {
              "outlinewidth": 0,
              "ticks": ""
             }
            },
            "type": "scattergl"
           }
          ],
          "scattermapbox": [
           {
            "marker": {
             "colorbar": {
              "outlinewidth": 0,
              "ticks": ""
             }
            },
            "type": "scattermapbox"
           }
          ],
          "scatterpolar": [
           {
            "marker": {
             "colorbar": {
              "outlinewidth": 0,
              "ticks": ""
             }
            },
            "type": "scatterpolar"
           }
          ],
          "scatterpolargl": [
           {
            "marker": {
             "colorbar": {
              "outlinewidth": 0,
              "ticks": ""
             }
            },
            "type": "scatterpolargl"
           }
          ],
          "scatterternary": [
           {
            "marker": {
             "colorbar": {
              "outlinewidth": 0,
              "ticks": ""
             }
            },
            "type": "scatterternary"
           }
          ],
          "surface": [
           {
            "colorbar": {
             "outlinewidth": 0,
             "ticks": ""
            },
            "colorscale": [
             [
              0,
              "#0d0887"
             ],
             [
              0.1111111111111111,
              "#46039f"
             ],
             [
              0.2222222222222222,
              "#7201a8"
             ],
             [
              0.3333333333333333,
              "#9c179e"
             ],
             [
              0.4444444444444444,
              "#bd3786"
             ],
             [
              0.5555555555555556,
              "#d8576b"
             ],
             [
              0.6666666666666666,
              "#ed7953"
             ],
             [
              0.7777777777777778,
              "#fb9f3a"
             ],
             [
              0.8888888888888888,
              "#fdca26"
             ],
             [
              1,
              "#f0f921"
             ]
            ],
            "type": "surface"
           }
          ],
          "table": [
           {
            "cells": {
             "fill": {
              "color": "#EBF0F8"
             },
             "line": {
              "color": "white"
             }
            },
            "header": {
             "fill": {
              "color": "#C8D4E3"
             },
             "line": {
              "color": "white"
             }
            },
            "type": "table"
           }
          ]
         },
         "layout": {
          "annotationdefaults": {
           "arrowcolor": "#2a3f5f",
           "arrowhead": 0,
           "arrowwidth": 1
          },
          "autotypenumbers": "strict",
          "coloraxis": {
           "colorbar": {
            "outlinewidth": 0,
            "ticks": ""
           }
          },
          "colorscale": {
           "diverging": [
            [
             0,
             "#8e0152"
            ],
            [
             0.1,
             "#c51b7d"
            ],
            [
             0.2,
             "#de77ae"
            ],
            [
             0.3,
             "#f1b6da"
            ],
            [
             0.4,
             "#fde0ef"
            ],
            [
             0.5,
             "#f7f7f7"
            ],
            [
             0.6,
             "#e6f5d0"
            ],
            [
             0.7,
             "#b8e186"
            ],
            [
             0.8,
             "#7fbc41"
            ],
            [
             0.9,
             "#4d9221"
            ],
            [
             1,
             "#276419"
            ]
           ],
           "sequential": [
            [
             0,
             "#0d0887"
            ],
            [
             0.1111111111111111,
             "#46039f"
            ],
            [
             0.2222222222222222,
             "#7201a8"
            ],
            [
             0.3333333333333333,
             "#9c179e"
            ],
            [
             0.4444444444444444,
             "#bd3786"
            ],
            [
             0.5555555555555556,
             "#d8576b"
            ],
            [
             0.6666666666666666,
             "#ed7953"
            ],
            [
             0.7777777777777778,
             "#fb9f3a"
            ],
            [
             0.8888888888888888,
             "#fdca26"
            ],
            [
             1,
             "#f0f921"
            ]
           ],
           "sequentialminus": [
            [
             0,
             "#0d0887"
            ],
            [
             0.1111111111111111,
             "#46039f"
            ],
            [
             0.2222222222222222,
             "#7201a8"
            ],
            [
             0.3333333333333333,
             "#9c179e"
            ],
            [
             0.4444444444444444,
             "#bd3786"
            ],
            [
             0.5555555555555556,
             "#d8576b"
            ],
            [
             0.6666666666666666,
             "#ed7953"
            ],
            [
             0.7777777777777778,
             "#fb9f3a"
            ],
            [
             0.8888888888888888,
             "#fdca26"
            ],
            [
             1,
             "#f0f921"
            ]
           ]
          },
          "colorway": [
           "#636efa",
           "#EF553B",
           "#00cc96",
           "#ab63fa",
           "#FFA15A",
           "#19d3f3",
           "#FF6692",
           "#B6E880",
           "#FF97FF",
           "#FECB52"
          ],
          "font": {
           "color": "#2a3f5f"
          },
          "geo": {
           "bgcolor": "white",
           "lakecolor": "white",
           "landcolor": "#E5ECF6",
           "showlakes": true,
           "showland": true,
           "subunitcolor": "white"
          },
          "hoverlabel": {
           "align": "left"
          },
          "hovermode": "closest",
          "mapbox": {
           "style": "light"
          },
          "paper_bgcolor": "white",
          "plot_bgcolor": "#E5ECF6",
          "polar": {
           "angularaxis": {
            "gridcolor": "white",
            "linecolor": "white",
            "ticks": ""
           },
           "bgcolor": "#E5ECF6",
           "radialaxis": {
            "gridcolor": "white",
            "linecolor": "white",
            "ticks": ""
           }
          },
          "scene": {
           "xaxis": {
            "backgroundcolor": "#E5ECF6",
            "gridcolor": "white",
            "gridwidth": 2,
            "linecolor": "white",
            "showbackground": true,
            "ticks": "",
            "zerolinecolor": "white"
           },
           "yaxis": {
            "backgroundcolor": "#E5ECF6",
            "gridcolor": "white",
            "gridwidth": 2,
            "linecolor": "white",
            "showbackground": true,
            "ticks": "",
            "zerolinecolor": "white"
           },
           "zaxis": {
            "backgroundcolor": "#E5ECF6",
            "gridcolor": "white",
            "gridwidth": 2,
            "linecolor": "white",
            "showbackground": true,
            "ticks": "",
            "zerolinecolor": "white"
           }
          },
          "shapedefaults": {
           "line": {
            "color": "#2a3f5f"
           }
          },
          "ternary": {
           "aaxis": {
            "gridcolor": "white",
            "linecolor": "white",
            "ticks": ""
           },
           "baxis": {
            "gridcolor": "white",
            "linecolor": "white",
            "ticks": ""
           },
           "bgcolor": "#E5ECF6",
           "caxis": {
            "gridcolor": "white",
            "linecolor": "white",
            "ticks": ""
           }
          },
          "title": {
           "x": 0.05
          },
          "xaxis": {
           "automargin": true,
           "gridcolor": "white",
           "linecolor": "white",
           "ticks": "",
           "title": {
            "standoff": 15
           },
           "zerolinecolor": "white",
           "zerolinewidth": 2
          },
          "yaxis": {
           "automargin": true,
           "gridcolor": "white",
           "linecolor": "white",
           "ticks": "",
           "title": {
            "standoff": 15
           },
           "zerolinecolor": "white",
           "zerolinewidth": 2
          }
         }
        },
        "title": {
         "text": "Anomaly Detection Using KMeans Clustering"
        },
        "xaxis": {
         "anchor": "y",
         "domain": [
          0,
          1
         ],
         "title": {
          "text": "timestamp"
         }
        },
        "yaxis": {
         "anchor": "x",
         "domain": [
          0,
          1
         ],
         "title": {
          "text": "value"
         }
        }
       }
      }
     },
     "metadata": {},
     "output_type": "display_data"
    }
   ],
   "source": [
    "px.scatter(obs_df,x=\"timestamp\",y=\"value\",color=\"is_anomaly_kmeans\", title=\"Anomaly Detection Using KMeans Clustering\")"
   ]
  },
  {
   "cell_type": "code",
   "execution_count": null,
   "metadata": {},
   "outputs": [],
   "source": []
  }
 ],
 "metadata": {
  "kernelspec": {
   "display_name": "base",
   "language": "python",
   "name": "python3"
  },
  "language_info": {
   "codemirror_mode": {
    "name": "ipython",
    "version": 3
   },
   "file_extension": ".py",
   "mimetype": "text/x-python",
   "name": "python",
   "nbconvert_exporter": "python",
   "pygments_lexer": "ipython3",
   "version": "3.9.13"
  },
  "orig_nbformat": 4
 },
 "nbformat": 4,
 "nbformat_minor": 2
}
